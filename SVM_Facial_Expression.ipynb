{
  "nbformat": 4,
  "nbformat_minor": 0,
  "metadata": {
    "colab": {
      "name": "Copy of Facial Expression.ipynb",
      "version": "0.3.2",
      "provenance": [],
      "collapsed_sections": []
    },
    "kernelspec": {
      "name": "python3",
      "display_name": "Python 3"
    },
    "accelerator": "GPU"
  },
  "cells": [
    {
      "metadata": {
        "id": "hrgXg7NRx-Zj",
        "colab_type": "text"
      },
      "cell_type": "markdown",
      "source": [
        "Load necessary packages"
      ]
    },
    {
      "metadata": {
        "id": "j2IYR3YYxSGx",
        "colab_type": "code",
        "outputId": "86ce4e71-27a8-4626-8bf7-c6dcee4a246a",
        "colab": {
          "base_uri": "https://localhost:8080/",
          "height": 36
        }
      },
      "cell_type": "code",
      "source": [
        "import numpy as np\n",
        "import matplotlib.pyplot as plt\n",
        "from sklearn import svm, datasets\n",
        "import csv\n",
        "from sklearn.svm import SVC\n",
        "from sklearn.metrics import accuracy_score\n",
        "from sklearn import metrics\n",
        "import pandas as pd\n",
        "import tensorflow as tf\n",
        "import os\n",
        "\n",
        "from keras.preprocessing import image\n",
        "from keras.models import Sequential, Model, load_model\n",
        "from keras.layers import Dense, Activation, Dropout, Flatten, BatchNormalization, Conv2D, Input, Dense, Dropout, MaxPool2D\n",
        "from keras.utils import to_categorical\n",
        "from keras.callbacks import ModelCheckpoint\n",
        "from keras import callbacks\n",
        "from keras.callbacks import EarlyStopping\n",
        "from keras.applications.vgg16 import VGG16\n",
        "from keras.layers.convolutional import ZeroPadding2D\n",
        "from keras.optimizers import Adamax\n",
        "from keras.applications import ResNet50\n",
        "\n",
        "result = ['Angry', 'Disgust', 'Fear', 'Happy', 'Sad', 'Surprise', 'Neutral']"
      ],
      "execution_count": 1,
      "outputs": [
        {
          "output_type": "stream",
          "text": [
            "Using TensorFlow backend.\n"
          ],
          "name": "stderr"
        }
      ]
    },
    {
      "metadata": {
        "id": "CP8atr7CgiNG",
        "colab_type": "text"
      },
      "cell_type": "markdown",
      "source": [
        "Download Training Data from Google Drive"
      ]
    },
    {
      "metadata": {
        "id": "XdGLCqkYCu-j",
        "colab_type": "code",
        "outputId": "83d28aa5-d167-446f-abc7-25f4f0424b69",
        "colab": {
          "base_uri": "https://localhost:8080/",
          "height": 36
        }
      },
      "cell_type": "code",
      "source": [
        "!pip install -U -q PyDrive\n",
        "\n",
        "from pydrive.auth import GoogleAuth\n",
        "from pydrive.drive import GoogleDrive\n",
        "from google.colab import auth\n",
        "from oauth2client.client import GoogleCredentials\n",
        "\n",
        "# 1. Authenticate and create the PyDrive client.\n",
        "auth.authenticate_user()\n",
        "gauth = GoogleAuth()\n",
        "gauth.credentials = GoogleCredentials.get_application_default()\n",
        "drive = GoogleDrive(gauth)\n",
        "\n",
        "download = drive.CreateFile({'id': '1wn1WdiMqfaBkHjLGgAGo7mgB2iCCpabk'})  #From shareable link\n",
        "download.GetContentFile('fer2013.csv')\n",
        "!ls"
      ],
      "execution_count": 2,
      "outputs": [
        {
          "output_type": "stream",
          "text": [
            "adc.json  fer2013.csv  sample_data\n"
          ],
          "name": "stdout"
        }
      ]
    },
    {
      "metadata": {
        "id": "ys09NLmiftW3",
        "colab_type": "text"
      },
      "cell_type": "markdown",
      "source": [
        "Load data-set and splite into training-validation and test dataset"
      ]
    },
    {
      "metadata": {
        "id": "OvpCMelfx9zT",
        "colab_type": "code",
        "outputId": "3ee0f0d8-7c34-4a0b-88f2-8769f35e2a36",
        "colab": {
          "base_uri": "https://localhost:8080/",
          "height": 92
        }
      },
      "cell_type": "code",
      "source": [
        "def load_data():\n",
        "\ttrain_data_X, train_data_Y = [], []\n",
        "\tvalidation_data_X, validation_data_Y = [], []\n",
        "\ttest_data_X, test_data_Y = [], []\n",
        "\twith open(\"fer2013.csv\", 'r') as csvfile:\n",
        "\t\tdatareader = csv.reader(csvfile, delimiter =',')\n",
        "\t\theaders = next(datareader)\n",
        "\t\tprint(headers) \n",
        "\t\tfor row in datareader:\n",
        "\t\t\temotion = int(row[0])\n",
        "\t\t\tusage = row[2]\n",
        "\t\t\tpixels = [int(p) for p in row[1].split()]\n",
        "\t\t\tif usage == \"Training\":\n",
        "\t\t\t\ttrain_data_X.append(pixels)\n",
        "\t\t\t\ttrain_data_Y.append(emotion)\n",
        "\t\t\telif usage == \"PrivateTest\":\n",
        "\t\t\t\tvalidation_data_X.append(pixels)\n",
        "\t\t\t\tvalidation_data_Y.append(emotion)\n",
        "\t\t\telse:\n",
        "\t\t\t\ttest_data_X.append(pixels)\n",
        "\t\t\t\ttest_data_Y.append(emotion)\n",
        "\ttrain_data_X, train_data_Y = np.array(train_data_X)/255.0, np.array(train_data_Y)\n",
        "\tvalidation_data_X, validation_data_Y = np.array(validation_data_X)/255.0, np.array(validation_data_Y)\n",
        "\ttest_data_X, test_data_Y = np.array(test_data_X)/255.0, np.array(test_data_Y)\n",
        "\n",
        "  \n",
        "\tprint(\"train_data \", train_data_X.shape)\n",
        "\tprint(\"validation_data \", validation_data_X.shape)\n",
        "\tprint(\"test_data \", test_data_X.shape)\n",
        "\treturn train_data_X, train_data_Y, validation_data_X, validation_data_Y, test_data_X, test_data_Y\n",
        "\n",
        "train_data_X, train_data_Y, validation_data_X, validation_data_Y, test_data_X, test_data_Y = load_data()"
      ],
      "execution_count": 3,
      "outputs": [
        {
          "output_type": "stream",
          "text": [
            "['emotion', 'pixels', 'Usage']\n",
            "train_data  (28709, 2304)\n",
            "validation_data  (3589, 2304)\n",
            "test_data  (3589, 2304)\n"
          ],
          "name": "stdout"
        }
      ]
    },
    {
      "metadata": {
        "id": "QTTinxHEyGyj",
        "colab_type": "text"
      },
      "cell_type": "markdown",
      "source": [
        "Support Vector Machine\n"
      ]
    },
    {
      "metadata": {
        "id": "--S8Vyw_1HK3",
        "colab_type": "code",
        "colab": {}
      },
      "cell_type": "code",
      "source": [
        "def evaluate(model, X, Y):\n",
        "  predicted_Y = model.predict(X)\n",
        "  accuracy = accuracy_score(Y, predicted_Y)\n",
        "  return accuracy\n",
        "\n",
        "def svm():\n",
        "  model = SVC(gamma='auto')\n",
        "  model.fit(train_data_X, train_data_Y) # \n",
        "  SVC(C=1.0, cache_size=7000, class_weight=None, coef0=0.0,\n",
        "    decision_function_shape='ovr', degree=3, gamma='auto', kernel='rbf',\n",
        "    max_iter=-1, probability=False, random_state=None, shrinking=True,\n",
        "    tol=0.001, verbose=False)\n",
        "  validation_accuracy = evaluate(model, validation_data_X,  validation_data_Y)\n",
        "  print( \"  - validation accuracy = {0:.1f}\".format(validation_accuracy*100))\n",
        "  test_accuracy = evaluate(model, test_data_X, test_data_Y)\n",
        "  print( \"  - test accuracy = {0:.1f}\".format(test_accuracy*100))\n",
        "  \n",
        "  \n",
        "  y_pred = model.predict(test_data_X)\n",
        "  for i in y_pred:\n",
        "    print(i)\n",
        "  print(\"Classification report for classifier %s:\\n%s\\n\"\n",
        "      % (model, metrics.classification_report(y_pred, test_data_Y)))\n",
        "  return model\n",
        "\n",
        "model = svm()"
      ],
      "execution_count": 0,
      "outputs": []
    },
    {
      "metadata": {
        "id": "kIHBfjB_l3aM",
        "colab_type": "text"
      },
      "cell_type": "markdown",
      "source": [
        "Support Vector Machine\n",
        "\n",
        "\n",
        "  - validation accuracy = 36.8\n",
        "  - test accuracy = 38.5  \n",
        "  \n",
        "Classification report for classifier SVC(C=1.0, cache_size=200, class_weight=None, coef0=0.0,\n",
        "  decision_function_shape='ovr', degree=3, gamma='auto', kernel='rbf',\n",
        "  max_iter=-1, probability=False, random_state=None, shrinking=True,\n",
        "  tol=0.001, verbose=False):  \n",
        "  \n",
        "              precision    recall  f1-score   support\n",
        "\n",
        "           0       0.03      0.20      0.05        59\n",
        "           1       0.00      0.00      0.00         0\n",
        "           2       0.08      0.33      0.14       126\n",
        "           3       0.81      0.39      0.53      1875\n",
        "           4       0.33      0.35      0.34       611\n",
        "           5       0.45      0.54      0.49       340\n",
        "           6       0.33      0.35      0.34       578\n",
        "\n",
        "   micro avg       0.38      0.38      0.38      3589  \n",
        "   macro avg       0.29      0.31      0.27      3589  \n",
        "   weighted avg       0.58      0.38      0.44      3589"
      ]
    }
  ]
}